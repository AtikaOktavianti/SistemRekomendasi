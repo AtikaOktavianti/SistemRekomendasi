{
  "nbformat": 4,
  "nbformat_minor": 0,
  "metadata": {
    "colab": {
      "provenance": []
    },
    "kernelspec": {
      "name": "python3",
      "display_name": "Python 3"
    },
    "language_info": {
      "name": "python"
    }
  },
  "cells": [
    {
      "cell_type": "markdown",
      "source": [
        "#**Mobile Recommendation System Dataset**\n",
        "\n",
        "Nama: Atika Oktavianti\n",
        "\n",
        "Username: atika_oktavianti_0gNF\n",
        "\n",
        "Membangun sistem rekomendasi film menggunakan pendekatan Content-Based Filtering dan Collaborative Filtering dari dataset Kaggle pada link berikut:\n",
        "https://www.kaggle.com/datasets/parasharmanas/movie-recommendation-system"
      ],
      "metadata": {
        "id": "jHmAyDOdtFsV"
      }
    },
    {
      "cell_type": "markdown",
      "source": [
        "**Mengunduh Dataset dari Kaggle**"
      ],
      "metadata": {
        "id": "mvLOgAWhtZD5"
      }
    },
    {
      "cell_type": "code",
      "execution_count": null,
      "metadata": {
        "id": "SKxaPXVZs61U"
      },
      "outputs": [],
      "source": [
        "# Memasang Kaggle API\n",
        "!pip install -q kaggle"
      ]
    },
    {
      "cell_type": "code",
      "source": [
        "# Upload file kaggle.json\n",
        "from google.colab import files\n",
        "files.upload()"
      ],
      "metadata": {
        "colab": {
          "base_uri": "https://localhost:8080/",
          "height": 90
        },
        "id": "0q3l__EnvMJ0",
        "outputId": "a389da3c-3c92-48f9-de60-e2cb6ff5b10b",
        "collapsed": true
      },
      "execution_count": null,
      "outputs": [
        {
          "output_type": "display_data",
          "data": {
            "text/plain": [
              "<IPython.core.display.HTML object>"
            ],
            "text/html": [
              "\n",
              "     <input type=\"file\" id=\"files-fa2b0ae4-7ddc-422c-aabb-916c656d6d18\" name=\"files[]\" multiple disabled\n",
              "        style=\"border:none\" />\n",
              "     <output id=\"result-fa2b0ae4-7ddc-422c-aabb-916c656d6d18\">\n",
              "      Upload widget is only available when the cell has been executed in the\n",
              "      current browser session. Please rerun this cell to enable.\n",
              "      </output>\n",
              "      <script>// Copyright 2017 Google LLC\n",
              "//\n",
              "// Licensed under the Apache License, Version 2.0 (the \"License\");\n",
              "// you may not use this file except in compliance with the License.\n",
              "// You may obtain a copy of the License at\n",
              "//\n",
              "//      http://www.apache.org/licenses/LICENSE-2.0\n",
              "//\n",
              "// Unless required by applicable law or agreed to in writing, software\n",
              "// distributed under the License is distributed on an \"AS IS\" BASIS,\n",
              "// WITHOUT WARRANTIES OR CONDITIONS OF ANY KIND, either express or implied.\n",
              "// See the License for the specific language governing permissions and\n",
              "// limitations under the License.\n",
              "\n",
              "/**\n",
              " * @fileoverview Helpers for google.colab Python module.\n",
              " */\n",
              "(function(scope) {\n",
              "function span(text, styleAttributes = {}) {\n",
              "  const element = document.createElement('span');\n",
              "  element.textContent = text;\n",
              "  for (const key of Object.keys(styleAttributes)) {\n",
              "    element.style[key] = styleAttributes[key];\n",
              "  }\n",
              "  return element;\n",
              "}\n",
              "\n",
              "// Max number of bytes which will be uploaded at a time.\n",
              "const MAX_PAYLOAD_SIZE = 100 * 1024;\n",
              "\n",
              "function _uploadFiles(inputId, outputId) {\n",
              "  const steps = uploadFilesStep(inputId, outputId);\n",
              "  const outputElement = document.getElementById(outputId);\n",
              "  // Cache steps on the outputElement to make it available for the next call\n",
              "  // to uploadFilesContinue from Python.\n",
              "  outputElement.steps = steps;\n",
              "\n",
              "  return _uploadFilesContinue(outputId);\n",
              "}\n",
              "\n",
              "// This is roughly an async generator (not supported in the browser yet),\n",
              "// where there are multiple asynchronous steps and the Python side is going\n",
              "// to poll for completion of each step.\n",
              "// This uses a Promise to block the python side on completion of each step,\n",
              "// then passes the result of the previous step as the input to the next step.\n",
              "function _uploadFilesContinue(outputId) {\n",
              "  const outputElement = document.getElementById(outputId);\n",
              "  const steps = outputElement.steps;\n",
              "\n",
              "  const next = steps.next(outputElement.lastPromiseValue);\n",
              "  return Promise.resolve(next.value.promise).then((value) => {\n",
              "    // Cache the last promise value to make it available to the next\n",
              "    // step of the generator.\n",
              "    outputElement.lastPromiseValue = value;\n",
              "    return next.value.response;\n",
              "  });\n",
              "}\n",
              "\n",
              "/**\n",
              " * Generator function which is called between each async step of the upload\n",
              " * process.\n",
              " * @param {string} inputId Element ID of the input file picker element.\n",
              " * @param {string} outputId Element ID of the output display.\n",
              " * @return {!Iterable<!Object>} Iterable of next steps.\n",
              " */\n",
              "function* uploadFilesStep(inputId, outputId) {\n",
              "  const inputElement = document.getElementById(inputId);\n",
              "  inputElement.disabled = false;\n",
              "\n",
              "  const outputElement = document.getElementById(outputId);\n",
              "  outputElement.innerHTML = '';\n",
              "\n",
              "  const pickedPromise = new Promise((resolve) => {\n",
              "    inputElement.addEventListener('change', (e) => {\n",
              "      resolve(e.target.files);\n",
              "    });\n",
              "  });\n",
              "\n",
              "  const cancel = document.createElement('button');\n",
              "  inputElement.parentElement.appendChild(cancel);\n",
              "  cancel.textContent = 'Cancel upload';\n",
              "  const cancelPromise = new Promise((resolve) => {\n",
              "    cancel.onclick = () => {\n",
              "      resolve(null);\n",
              "    };\n",
              "  });\n",
              "\n",
              "  // Wait for the user to pick the files.\n",
              "  const files = yield {\n",
              "    promise: Promise.race([pickedPromise, cancelPromise]),\n",
              "    response: {\n",
              "      action: 'starting',\n",
              "    }\n",
              "  };\n",
              "\n",
              "  cancel.remove();\n",
              "\n",
              "  // Disable the input element since further picks are not allowed.\n",
              "  inputElement.disabled = true;\n",
              "\n",
              "  if (!files) {\n",
              "    return {\n",
              "      response: {\n",
              "        action: 'complete',\n",
              "      }\n",
              "    };\n",
              "  }\n",
              "\n",
              "  for (const file of files) {\n",
              "    const li = document.createElement('li');\n",
              "    li.append(span(file.name, {fontWeight: 'bold'}));\n",
              "    li.append(span(\n",
              "        `(${file.type || 'n/a'}) - ${file.size} bytes, ` +\n",
              "        `last modified: ${\n",
              "            file.lastModifiedDate ? file.lastModifiedDate.toLocaleDateString() :\n",
              "                                    'n/a'} - `));\n",
              "    const percent = span('0% done');\n",
              "    li.appendChild(percent);\n",
              "\n",
              "    outputElement.appendChild(li);\n",
              "\n",
              "    const fileDataPromise = new Promise((resolve) => {\n",
              "      const reader = new FileReader();\n",
              "      reader.onload = (e) => {\n",
              "        resolve(e.target.result);\n",
              "      };\n",
              "      reader.readAsArrayBuffer(file);\n",
              "    });\n",
              "    // Wait for the data to be ready.\n",
              "    let fileData = yield {\n",
              "      promise: fileDataPromise,\n",
              "      response: {\n",
              "        action: 'continue',\n",
              "      }\n",
              "    };\n",
              "\n",
              "    // Use a chunked sending to avoid message size limits. See b/62115660.\n",
              "    let position = 0;\n",
              "    do {\n",
              "      const length = Math.min(fileData.byteLength - position, MAX_PAYLOAD_SIZE);\n",
              "      const chunk = new Uint8Array(fileData, position, length);\n",
              "      position += length;\n",
              "\n",
              "      const base64 = btoa(String.fromCharCode.apply(null, chunk));\n",
              "      yield {\n",
              "        response: {\n",
              "          action: 'append',\n",
              "          file: file.name,\n",
              "          data: base64,\n",
              "        },\n",
              "      };\n",
              "\n",
              "      let percentDone = fileData.byteLength === 0 ?\n",
              "          100 :\n",
              "          Math.round((position / fileData.byteLength) * 100);\n",
              "      percent.textContent = `${percentDone}% done`;\n",
              "\n",
              "    } while (position < fileData.byteLength);\n",
              "  }\n",
              "\n",
              "  // All done.\n",
              "  yield {\n",
              "    response: {\n",
              "      action: 'complete',\n",
              "    }\n",
              "  };\n",
              "}\n",
              "\n",
              "scope.google = scope.google || {};\n",
              "scope.google.colab = scope.google.colab || {};\n",
              "scope.google.colab._files = {\n",
              "  _uploadFiles,\n",
              "  _uploadFilesContinue,\n",
              "};\n",
              "})(self);\n",
              "</script> "
            ]
          },
          "metadata": {}
        },
        {
          "output_type": "stream",
          "name": "stdout",
          "text": [
            "Saving kaggle.json to kaggle (1).json\n"
          ]
        },
        {
          "output_type": "execute_result",
          "data": {
            "text/plain": [
              "{'kaggle (1).json': b'{\"username\":\"atikaoktavianti\",\"key\":\"e7054724caf6c127e3e103ea57b1f37c\"}'}"
            ]
          },
          "metadata": {},
          "execution_count": 2
        }
      ]
    },
    {
      "cell_type": "code",
      "source": [
        "!mkdir -p ~/.kaggle\n",
        "!cp kaggle.json ~/.kaggle/kaggle.json\n",
        "!chmod 600 ~/.kaggle/kaggle.json"
      ],
      "metadata": {
        "id": "6B7vP3i1vRAD"
      },
      "execution_count": null,
      "outputs": []
    },
    {
      "cell_type": "code",
      "source": [
        "# Unduh dataset\n",
        "!kaggle datasets download -d parasharmanas/movie-recommendation-system"
      ],
      "metadata": {
        "colab": {
          "base_uri": "https://localhost:8080/"
        },
        "id": "n_wOIcpvvsh_",
        "outputId": "988bff6a-9493-4182-f626-089af53700da"
      },
      "execution_count": null,
      "outputs": [
        {
          "output_type": "stream",
          "name": "stdout",
          "text": [
            "Dataset URL: https://www.kaggle.com/datasets/parasharmanas/movie-recommendation-system\n",
            "License(s): ODbL-1.0\n",
            "movie-recommendation-system.zip: Skipping, found more recently modified local copy (use --force to force download)\n"
          ]
        }
      ]
    },
    {
      "cell_type": "code",
      "source": [
        "# Ekstrak dataset\n",
        "!unzip -o movie-recommendation-system.zip -d data"
      ],
      "metadata": {
        "colab": {
          "base_uri": "https://localhost:8080/"
        },
        "id": "Jst5abIHyXMT",
        "outputId": "85bddc3c-4d7c-4240-f299-17ccb07610c9"
      },
      "execution_count": null,
      "outputs": [
        {
          "output_type": "stream",
          "name": "stdout",
          "text": [
            "Archive:  movie-recommendation-system.zip\n",
            "  inflating: data/movies.csv         \n",
            "  inflating: data/ratings.csv        \n"
          ]
        }
      ]
    },
    {
      "cell_type": "markdown",
      "source": [
        "#Import Library"
      ],
      "metadata": {
        "id": "14yD2MHRye5a"
      }
    },
    {
      "cell_type": "markdown",
      "source": [
        "Mengimport library yang dibutuhkan"
      ],
      "metadata": {
        "id": "VE5nMNLRykDW"
      }
    },
    {
      "cell_type": "code",
      "source": [
        "!pip install surprise"
      ],
      "metadata": {
        "colab": {
          "base_uri": "https://localhost:8080/"
        },
        "id": "LB8Vw35KlZci",
        "outputId": "394ee26f-e2ca-49b1-d45c-5bcd40a8a600"
      },
      "execution_count": null,
      "outputs": [
        {
          "output_type": "stream",
          "name": "stdout",
          "text": [
            "Requirement already satisfied: surprise in /usr/local/lib/python3.11/dist-packages (0.1)\n",
            "Requirement already satisfied: scikit-surprise in /usr/local/lib/python3.11/dist-packages (from surprise) (1.1.4)\n",
            "Requirement already satisfied: joblib>=1.2.0 in /usr/local/lib/python3.11/dist-packages (from scikit-surprise->surprise) (1.5.0)\n",
            "Requirement already satisfied: numpy>=1.19.5 in /usr/local/lib/python3.11/dist-packages (from scikit-surprise->surprise) (1.24.4)\n",
            "Requirement already satisfied: scipy>=1.6.0 in /usr/local/lib/python3.11/dist-packages (from scikit-surprise->surprise) (1.15.3)\n"
          ]
        }
      ]
    },
    {
      "cell_type": "code",
      "source": [
        "# Manipulasi Data\n",
        "import pandas as pd\n",
        "import numpy as np\n",
        "\n",
        "# Visualisasi (opsional jika ingin eksplorasi data)\n",
        "import matplotlib.pyplot as plt\n",
        "import seaborn as sns\n",
        "\n",
        "# Content-Based Filtering\n",
        "from sklearn.feature_extraction.text import TfidfVectorizer\n",
        "from sklearn.metrics.pairwise import cosine_similarity\n",
        "\n",
        "# Collaborative Filtering dengan SVD\n",
        "from surprise import Dataset, Reader, SVD\n",
        "from surprise.model_selection import cross_validate\n",
        "\n",
        "# Sistem\n",
        "import warnings\n",
        "warnings.filterwarnings(\"ignore\")"
      ],
      "metadata": {
        "id": "_yodUpWlaLRt"
      },
      "execution_count": null,
      "outputs": []
    },
    {
      "cell_type": "markdown",
      "source": [
        "#Load Dataset"
      ],
      "metadata": {
        "id": "nmIxB2UoyxiM"
      }
    },
    {
      "cell_type": "markdown",
      "source": [
        "Memuat dataset yang sudah diunduh dari kaggle"
      ],
      "metadata": {
        "id": "FUYM7xGMyzmN"
      }
    },
    {
      "cell_type": "code",
      "source": [
        "import pandas as pd\n",
        "\n",
        "# Load dataset movies dan ratings\n",
        "movies = pd.read_csv(\"data/movies.csv\")\n",
        "ratings = pd.read_csv(\"data/ratings.csv\")\n",
        "\n",
        "# Tampilkan 5 baris pertama dari masing-masing dataset\n",
        "print(\"Movies sample:\")\n",
        "print(movies.head())\n",
        "\n",
        "print(\"\\nRatings sample:\")\n",
        "print(ratings.head())"
      ],
      "metadata": {
        "colab": {
          "base_uri": "https://localhost:8080/"
        },
        "id": "LP9HhjiPzCcp",
        "outputId": "c9d17030-2bfe-4afc-ef71-2eea48d62978"
      },
      "execution_count": null,
      "outputs": [
        {
          "output_type": "stream",
          "name": "stdout",
          "text": [
            "Movies sample:\n",
            "   movieId                               title  \\\n",
            "0        1                    Toy Story (1995)   \n",
            "1        2                      Jumanji (1995)   \n",
            "2        3             Grumpier Old Men (1995)   \n",
            "3        4            Waiting to Exhale (1995)   \n",
            "4        5  Father of the Bride Part II (1995)   \n",
            "\n",
            "                                        genres  \n",
            "0  Adventure|Animation|Children|Comedy|Fantasy  \n",
            "1                   Adventure|Children|Fantasy  \n",
            "2                               Comedy|Romance  \n",
            "3                         Comedy|Drama|Romance  \n",
            "4                                       Comedy  \n",
            "\n",
            "Ratings sample:\n",
            "   userId  movieId  rating   timestamp\n",
            "0       1      296     5.0  1147880044\n",
            "1       1      306     3.5  1147868817\n",
            "2       1      307     5.0  1147868828\n",
            "3       1      665     5.0  1147878820\n",
            "4       1      899     3.5  1147868510\n"
          ]
        }
      ]
    },
    {
      "cell_type": "markdown",
      "source": [
        "Output yang ditampilkan di atas merupakan isi dari dua dataset yang dugunakan dalam sistem rekomendasi ini\n",
        "\n",
        "1. Dataset \"Movies\"\n",
        "Berisi informasi dasar tentang film:\n",
        "- movieId: ID unik untuk setiap film.\n",
        "- title: Judul film beserta tahun rilis.\n",
        "- genres: Genre film yang dipisahkan oleh tanda \"|\".\n",
        "\n",
        "2. Dataset \"Ratings\"\n",
        "Berisi data penilaian pengguna terhadap film:\n",
        "- userId: ID pengguna yang memberikan rating.\n",
        "- movieId: ID film yang diberi rating.\n",
        "- rating: Skor atau penilaian film dari pengguna (biasanya dari 0.5 sampai 5).\n",
        "- timestamp: Waktu penilaian dalam format UNIX timestamp."
      ],
      "metadata": {
        "id": "gbfjihhnSgaL"
      }
    },
    {
      "cell_type": "markdown",
      "source": [
        "#Eksplorasi Data Analisis (EDA)"
      ],
      "metadata": {
        "id": "W_VTYDF50QGH"
      }
    },
    {
      "cell_type": "markdown",
      "source": [
        "**1. Info umum dataset movies dan ratings**"
      ],
      "metadata": {
        "id": "ZlG7TaYb0ZRI"
      }
    },
    {
      "cell_type": "code",
      "source": [
        "print(\"Movies Dataset Info:\")\n",
        "print(movies.info())\n",
        "\n",
        "print(\"\\nRatings Dataset Info:\")\n",
        "print(ratings.info())"
      ],
      "metadata": {
        "colab": {
          "base_uri": "https://localhost:8080/"
        },
        "id": "j_AeXfeg0fq7",
        "outputId": "95c66855-e01d-4f93-bf27-916284d519f3"
      },
      "execution_count": null,
      "outputs": [
        {
          "output_type": "stream",
          "name": "stdout",
          "text": [
            "Movies Dataset Info:\n",
            "<class 'pandas.core.frame.DataFrame'>\n",
            "RangeIndex: 62423 entries, 0 to 62422\n",
            "Data columns (total 3 columns):\n",
            " #   Column   Non-Null Count  Dtype \n",
            "---  ------   --------------  ----- \n",
            " 0   movieId  62423 non-null  int64 \n",
            " 1   title    62423 non-null  object\n",
            " 2   genres   62423 non-null  object\n",
            "dtypes: int64(1), object(2)\n",
            "memory usage: 1.4+ MB\n",
            "None\n",
            "\n",
            "Ratings Dataset Info:\n",
            "<class 'pandas.core.frame.DataFrame'>\n",
            "RangeIndex: 25000095 entries, 0 to 25000094\n",
            "Data columns (total 4 columns):\n",
            " #   Column     Dtype  \n",
            "---  ------     -----  \n",
            " 0   userId     int64  \n",
            " 1   movieId    int64  \n",
            " 2   rating     float64\n",
            " 3   timestamp  int64  \n",
            "dtypes: float64(1), int64(3)\n",
            "memory usage: 762.9 MB\n",
            "None\n"
          ]
        }
      ]
    },
    {
      "cell_type": "markdown",
      "source": [
        "Dataset **Movies** berisi 62.423 entri dengan tiga kolom: `movieId` (ID film), `title` (judul film), dan `genres` (genre film), semuanya lengkap tanpa data kosong, dan menggunakan memori sekitar 1,4 MB.\n",
        "\n",
        "Sementara itu, dataset **Ratings** jauh lebih besar dengan 25.000.095 entri dan empat kolom: `userId`, `movieId`, `rating`, dan `timestamp`. Dataset ini mencatat penilaian pengguna terhadap film dan menggunakan memori sekitar 762,9 MB. Kedua dataset ini umum digunakan untuk analisis preferensi pengguna dan pengembangan sistem rekomendasi film.\n"
      ],
      "metadata": {
        "id": "xpepDM_RTnwW"
      }
    },
    {
      "cell_type": "markdown",
      "source": [
        "**2. Statistik dasar rating**"
      ],
      "metadata": {
        "id": "fnhnODI2cWTh"
      }
    },
    {
      "cell_type": "code",
      "source": [
        "print(\"\\nRating Statistik:\")\n",
        "print(ratings['rating'].describe())"
      ],
      "metadata": {
        "colab": {
          "base_uri": "https://localhost:8080/"
        },
        "id": "teajjOmlcZ9Y",
        "outputId": "0dd2e204-b95b-4d9b-bcc7-c1bbe700aaf6"
      },
      "execution_count": null,
      "outputs": [
        {
          "output_type": "stream",
          "name": "stdout",
          "text": [
            "\n",
            "Rating Statistik:\n",
            "count    2.500010e+07\n",
            "mean     3.533854e+00\n",
            "std      1.060744e+00\n",
            "min      5.000000e-01\n",
            "25%      3.000000e+00\n",
            "50%      3.500000e+00\n",
            "75%      4.000000e+00\n",
            "max      5.000000e+00\n",
            "Name: rating, dtype: float64\n"
          ]
        }
      ]
    },
    {
      "cell_type": "markdown",
      "source": [
        "Statistik rating menunjukkan bahwa dari total 25 juta data, **rata-rata rating** film adalah **3.53** dengan **standar deviasi** sebesar **1.06**, yang menandakan variasi penilaian pengguna. Nilai rating minimum adalah **0.5** dan maksimum **5.0**. Sebagian besar rating berada di antara **3.0 (kuartil 1)** dan **4.0 (kuartil 3)**, dengan **nilai tengah (median)** di **3.5**, menunjukkan bahwa pengguna cenderung memberikan rating positif"
      ],
      "metadata": {
        "id": "Ch--G4J7UDy_"
      }
    },
    {
      "cell_type": "markdown",
      "source": [
        "**3. Jumalh rating per film (top 10)**"
      ],
      "metadata": {
        "id": "xdUXG4owdeAS"
      }
    },
    {
      "cell_type": "code",
      "source": [
        "rating_counts = ratings['movieId'].value_counts()\n",
        "print(\"\\nJumlah rating per film (top 10):\")\n",
        "print(rating_counts.head(10))"
      ],
      "metadata": {
        "colab": {
          "base_uri": "https://localhost:8080/"
        },
        "id": "UtTEu35l0oal",
        "outputId": "24333cee-6115-410c-daa1-dfa5fb3e3d2f"
      },
      "execution_count": null,
      "outputs": [
        {
          "output_type": "stream",
          "name": "stdout",
          "text": [
            "\n",
            "Jumlah rating per film (top 10):\n",
            "movieId\n",
            "356     81491\n",
            "318     81482\n",
            "296     79672\n",
            "593     74127\n",
            "2571    72674\n",
            "260     68717\n",
            "480     64144\n",
            "527     60411\n",
            "110     59184\n",
            "2959    58773\n",
            "Name: count, dtype: int64\n"
          ]
        }
      ]
    },
    {
      "cell_type": "markdown",
      "source": [
        "Data ini menunjukkan **10 film teratas dengan jumlah rating terbanyak**. Film dengan `movieId 356` menerima rating paling banyak, yaitu **81.491 kali**, diikuti oleh `movieId 318` dengan **81.482 rating**, dan seterusnya. Ini menunjukkan bahwa film-film tersebut sangat populer atau sering ditonton oleh pengguna dalam dataset.\n"
      ],
      "metadata": {
        "id": "qckppzj-UK0l"
      }
    },
    {
      "cell_type": "markdown",
      "source": [
        "**4. Visualisasi distribusi rating**"
      ],
      "metadata": {
        "id": "CJxJb3Ca1NLb"
      }
    },
    {
      "cell_type": "code",
      "source": [
        "import matplotlib.pyplot as plt\n",
        "import seaborn as sns\n",
        "\n",
        "plt.figure(figsize=(8,5))\n",
        "sns.countplot(x='rating', data=ratings, palette='viridis')\n",
        "plt.title('Distribusi Rating')\n",
        "plt.xlabel('Rating')\n",
        "plt.ylabel('Jumlah')\n",
        "plt.show()"
      ],
      "metadata": {
        "colab": {
          "base_uri": "https://localhost:8080/",
          "height": 487
        },
        "id": "gV9ZMbNqdpmQ",
        "outputId": "39a3bcc6-1a30-40de-a671-9831637c97ff"
      },
      "execution_count": null,
      "outputs": [
        {
          "output_type": "display_data",
          "data": {
            "text/plain": [
              "<Figure size 800x500 with 1 Axes>"
            ],
            "image/png": "[encoded data removed]"
          },
          "metadata": {}
        }
      ]
    },
    {
      "cell_type": "markdown",
      "source": [
        "Grafik tersebut menunjukkan **distribusi rating film** dari pengguna. Terlihat bahwa sebagian besar pengguna memberikan **rating tinggi**, terutama pada **rating 4.0** yang mendominasi, disusul oleh **rating 3.0** dan **5.0**. Sebaliknya, rating rendah seperti **0.5 hingga 2.0** jauh lebih jarang diberikan. Ini menunjukkan bahwa pengguna cenderung lebih sering memberi penilaian positif terhadap film yang mereka tonton."
      ],
      "metadata": {
        "id": "JQBKIY03Uaul"
      }
    },
    {
      "cell_type": "markdown",
      "source": [
        "**5. Visualisasi jumlah rating per film (top 20)**"
      ],
      "metadata": {
        "id": "c6xPvIg4dt9m"
      }
    },
    {
      "cell_type": "code",
      "source": [
        "plt.figure(figsize=(12,6))\n",
        "top_movies = rating_counts.head(20)\n",
        "sns.barplot(x=top_movies.index, y=top_movies.values, palette='magma')\n",
        "plt.title('Top 20 Film dengan Jumlah Rating Terbanyak')\n",
        "plt.xlabel('movieId')\n",
        "plt.ylabel('Jumlah Rating')\n",
        "plt.xticks(rotation=45)\n",
        "plt.show()"
      ],
      "metadata": {
        "colab": {
          "base_uri": "https://localhost:8080/",
          "height": 480
        },
        "id": "TjA42Z_S1X9a",
        "outputId": "73acc1cd-165a-4f69-adf1-e6535f3b8cd1"
      },
      "execution_count": null,
      "outputs": [
        {
          "output_type": "display_data",
          "data": {
            "text/plain": [
              "<Figure size 1200x600 with 1 Axes>"
            ],
            "image/png": "[encoded data removed]"
          },
          "metadata": {}
        }
      ]
    },
    {
      "cell_type": "markdown",
      "source": [
        "Grafik ini menampilkan **20 film dengan jumlah rating terbanyak** berdasarkan `movieId`. Film dengan `movieId` **356 dan 318** menerima rating terbanyak, masing-masing lebih dari **80.000 kali**, diikuti oleh film `296`, `593`, dan `260`. Secara umum, semua film dalam grafik ini mendapatkan lebih dari **50.000 rating**, menunjukkan bahwa film-film tersebut sangat populer atau sering ditonton oleh pengguna dalam dataset."
      ],
      "metadata": {
        "id": "WELYv6IPU0_O"
      }
    },
    {
      "cell_type": "markdown",
      "source": [
        "**6. Eksplorasi dan visualisasi genre film**"
      ],
      "metadata": {
        "id": "qamKVtvqd6Vp"
      }
    },
    {
      "cell_type": "code",
      "source": [
        "# Pisahkan genre menjadi list\n",
        "movies['genres_list'] = movies['genres'].str.split('|')\n",
        "\n",
        "# Hitung frekuensi genre\n",
        "all_genres = movies['genres_list'].explode()\n",
        "genre_counts = all_genres.value_counts()\n",
        "\n",
        "plt.figure(figsize=(12,6))\n",
        "sns.barplot(x=genre_counts.index, y=genre_counts.values, palette='coolwarm')\n",
        "plt.title('Distribusi Genre Film')\n",
        "plt.xlabel('Genre')\n",
        "plt.ylabel('Jumlah Film')\n",
        "plt.xticks(rotation=45)\n",
        "plt.show()"
      ],
      "metadata": {
        "colab": {
          "base_uri": "https://localhost:8080/",
          "height": 530
        },
        "id": "1m5KlLQ9d52T",
        "outputId": "7f09fb63-86e7-4a61-9697-88e065f7f072"
      },
      "execution_count": null,
      "outputs": [
        {
          "output_type": "display_data",
          "data": {
            "text/plain": [
              "<Figure size 1200x600 with 1 Axes>"
            ],
            "image/png": "[encoded data removed]"
          },
          "metadata": {}
        }
      ]
    },
    {
      "cell_type": "markdown",
      "source": [
        "Grafik ini menunjukkan **distribusi jumlah film berdasarkan genre**. Genre **Drama** merupakan yang paling banyak, dengan lebih dari **25.000 film**, diikuti oleh **Comedy**, **Thriller**, dan **Romance**. Genre dengan jumlah film paling sedikit adalah **IMAX**, **Film-Noir**, dan **Musical**. Ini menunjukkan bahwa film bergenre drama dan komedi paling dominan dalam dataset, sedangkan genre-genre tertentu bersifat lebih niche atau jarang diproduksi.\n"
      ],
      "metadata": {
        "id": "PzYOwrRbVKxA"
      }
    },
    {
      "cell_type": "markdown",
      "source": [
        "**7. Cek Missing Values**"
      ],
      "metadata": {
        "id": "woyiXlMP2ou8"
      }
    },
    {
      "cell_type": "markdown",
      "source": [
        "Pemeriksaan missing value penting dilakukan untuk memastikan kualitas dan kelengkapan data sebelum dianalisis atau digunakan dalam model."
      ],
      "metadata": {
        "id": "lAV_cE2IVU9H"
      }
    },
    {
      "cell_type": "code",
      "source": [
        "# Cek missing value\n",
        "print(\"Missing value pada movies:\")\n",
        "print(movies.isnull().sum())\n",
        "\n",
        "print(\"\\nMissing value pada ratings:\")\n",
        "print(ratings.isnull().sum())"
      ],
      "metadata": {
        "colab": {
          "base_uri": "https://localhost:8080/"
        },
        "id": "Hasgeeqp2wQ-",
        "outputId": "c7ce0c0e-5a94-48b7-93e3-482cb91d23ad"
      },
      "execution_count": null,
      "outputs": [
        {
          "output_type": "stream",
          "name": "stdout",
          "text": [
            "Missing value pada movies:\n",
            "movieId        0\n",
            "title          0\n",
            "genres         0\n",
            "genres_list    0\n",
            "dtype: int64\n",
            "\n",
            "Missing value pada ratings:\n",
            "userId       0\n",
            "movieId      0\n",
            "rating       0\n",
            "timestamp    0\n",
            "dtype: int64\n"
          ]
        }
      ]
    },
    {
      "cell_type": "markdown",
      "source": [
        "Output menunjukkan bahwa tidak ada missing value pada dataset movies maupun ratings, sehingga data dinyatakan lengkap dan siap diproses lebih lanjut tanpa perlu penanganan khusus seperti imputasi atau pembersihan data."
      ],
      "metadata": {
        "id": "dLPJv0sVVXrF"
      }
    },
    {
      "cell_type": "markdown",
      "source": [
        "#Preprocessing"
      ],
      "metadata": {
        "id": "qTET5p9w7r2P"
      }
    },
    {
      "cell_type": "markdown",
      "source": [
        "**1. Preprocessing untuk Content-Based Filtering (mengolah fitur genre)**"
      ],
      "metadata": {
        "id": "fq7AfQ1E8cCi"
      }
    },
    {
      "cell_type": "markdown",
      "source": [
        "Tahap preprocessing untuk Content-Based Filtering diperlukan agar fitur teks seperti genre dapat diubah menjadi format numerik yang bisa diproses oleh algoritma, salah satunya menggunakan TF-IDF (Term Frequency-Inverse Document Frequency)."
      ],
      "metadata": {
        "id": "VmNiVNcQVpwJ"
      }
    },
    {
      "cell_type": "code",
      "source": [
        "import pandas as pd\n",
        "from sklearn.feature_extraction.text import TfidfVectorizer\n",
        "\n",
        "# Isi missing value pada kolom genres dengan string kosong\n",
        "movies['genres'] = movies['genres'].fillna('')\n",
        "\n",
        "# Ganti tanda \"|\" dengan spasi agar bisa diproses TF-IDF\n",
        "movies['genres_str'] = movies['genres'].str.replace('|', ' ')\n",
        "\n",
        "# Inisialisasi TF-IDF Vectorizer\n",
        "tfidf = TfidfVectorizer(stop_words='english')\n",
        "\n",
        "# Buat matriks TF-IDF berdasarkan genres\n",
        "tfidf_matrix = tfidf.fit_transform(movies['genres_str'])\n",
        "\n",
        "print(\"Shape TF-IDF matrix:\", tfidf_matrix.shape)"
      ],
      "metadata": {
        "colab": {
          "base_uri": "https://localhost:8080/"
        },
        "id": "eQRGzTYy87rn",
        "outputId": "a713d5cb-cf06-499e-ef7c-60a7672c7000"
      },
      "execution_count": null,
      "outputs": [
        {
          "output_type": "stream",
          "name": "stdout",
          "text": [
            "Shape TF-IDF matrix: (62423, 23)\n"
          ]
        }
      ]
    },
    {
      "cell_type": "markdown",
      "source": [
        "Hasil output Shape TF-IDF matrix: (62423, 23) menunjukkan bahwa telah terbentuk matriks fitur dengan 62.423 film (baris) dan 23 genre unik (kolom), siap digunakan untuk menghitung kemiripan antar film berdasarkan genre."
      ],
      "metadata": {
        "id": "f24ElxP6Vu-Q"
      }
    },
    {
      "cell_type": "markdown",
      "source": [
        "**2. Preprocessing untuk Collaborative Filtering (menyiapkan data rating untuk Surprise)**"
      ],
      "metadata": {
        "id": "qiTJeZ_b9Fft"
      }
    },
    {
      "cell_type": "markdown",
      "source": [
        "Preprocessing untuk Collaborative Filtering bertujuan untuk menyiapkan data rating agar sesuai dengan format yang dibutuhkan oleh library Surprise, sehingga proses pemodelan dapat berjalan dengan lancar dan akurat."
      ],
      "metadata": {
        "id": "9HSmmI9OWDPf"
      }
    },
    {
      "cell_type": "code",
      "source": [
        "import pandas as pd\n",
        "from surprise import Reader, Dataset\n",
        "\n",
        "# Hapus duplikat dan missing value pada data rating\n",
        "ratings = ratings.drop_duplicates()\n",
        "ratings = ratings.dropna(subset=['userId', 'movieId', 'rating'])\n",
        "\n",
        "# Cek rentang rating agar sesuai dengan yang ada di data\n",
        "print(\"Rating min:\", ratings['rating'].min())\n",
        "print(\"Rating max:\", ratings['rating'].max())\n",
        "\n",
        "# Inisialisasi Reader dengan skala rating sesuai data\n",
        "reader = Reader(rating_scale=(ratings['rating'].min(), ratings['rating'].max()))\n",
        "\n",
        "# Load data ke dataset Surprise\n",
        "data = Dataset.load_from_df(ratings[['userId', 'movieId', 'rating']], reader)\n",
        "\n",
        "print(\"Data surprise siap untuk modeling.\")"
      ],
      "metadata": {
        "colab": {
          "base_uri": "https://localhost:8080/"
        },
        "id": "5jblPe8M9Ofn",
        "outputId": "41245ea2-67ea-4167-bbc6-bddcc9bdf2f0"
      },
      "execution_count": null,
      "outputs": [
        {
          "output_type": "stream",
          "name": "stdout",
          "text": [
            "Rating min: 0.5\n",
            "Rating max: 5.0\n",
            "Data surprise siap untuk modeling.\n"
          ]
        }
      ]
    },
    {
      "cell_type": "markdown",
      "source": [
        "Output tersebut menandakan bahwa data rating sudah berada dalam rentang valid (0.5 sampai 5.0) dan telah siap digunakan dalam library Surprise untuk proses pemodelan Collaborative Filtering."
      ],
      "metadata": {
        "id": "qmgsMfZ-WMvY"
      }
    },
    {
      "cell_type": "markdown",
      "source": [
        "#Modelling"
      ],
      "metadata": {
        "id": "bmEPie8qBX9c"
      }
    },
    {
      "cell_type": "markdown",
      "source": [
        "**1. Content-Based Filtering Modeling**\n",
        "\n",
        "Model yang digunakan:\n",
        "- Menghitung cosine similarity antar film berdasarkan TF-IDF matrix dari genres.\n",
        "- Rekomendasi film diberikan berdasarkan kemiripan dengan film yang dipilih user."
      ],
      "metadata": {
        "id": "FD1SdlMchutv"
      }
    },
    {
      "cell_type": "code",
      "source": [
        "# Melihat ukuran atau dimensi matriks TF-IDF\n",
        "print(tfidf_matrix.shape)"
      ],
      "metadata": {
        "colab": {
          "base_uri": "https://localhost:8080/"
        },
        "id": "uf-nhNKMnEpd",
        "outputId": "82e19f22-78a2-4dbe-ed0e-f91038cc2027"
      },
      "execution_count": null,
      "outputs": [
        {
          "output_type": "stream",
          "name": "stdout",
          "text": [
            "(62423, 23)\n"
          ]
        }
      ]
    },
    {
      "cell_type": "markdown",
      "source": [
        "matriks TF-IDF memiliki 62.423 baris dan 23 kolom"
      ],
      "metadata": {
        "id": "M5vbR6b8WoBI"
      }
    },
    {
      "cell_type": "code",
      "source": [
        "from sklearn.metrics.pairwise import cosine_similarity\n",
        "\n",
        "tfidf_sample = tfidf_matrix[:1000]\n",
        "movies_sample = movies.iloc[:1000]\n",
        "\n",
        "cosine_sim_sample = cosine_similarity(tfidf_sample, tfidf_sample)\n",
        "\n",
        "def recommend_movies_sample(title, movies_df, cosine_sim, top_n=10):\n",
        "    idx = movies_df[movies_df['title'] == title].index[0]\n",
        "    sim_scores = list(enumerate(cosine_sim[idx]))\n",
        "    sim_scores = sorted(sim_scores, key=lambda x: x[1], reverse=True)\n",
        "    sim_scores = sim_scores[1:top_n+1]\n",
        "    movie_indices = [i[0] for i in sim_scores]\n",
        "    return movies_df['title'].iloc[movie_indices]\n",
        "\n",
        "print(recommend_movies_sample('Toy Story (1995)', movies_sample, cosine_sim_sample))"
      ],
      "metadata": {
        "colab": {
          "base_uri": "https://localhost:8080/"
        },
        "id": "drkElWY1BeOS",
        "outputId": "6d7c3751-07e4-4869-dd08-df2236613282"
      },
      "execution_count": null,
      "outputs": [
        {
          "output_type": "stream",
          "name": "stdout",
          "text": [
            "551                  Pagemaster, The (1994)\n",
            "55           Kids of the Round Table (1995)\n",
            "661                        Space Jam (1996)\n",
            "1                            Jumanji (1995)\n",
            "59       Indian in the Cupboard, The (1995)\n",
            "124       NeverEnding Story III, The (1994)\n",
            "986         Escape to Witch Mountain (1975)\n",
            "12                             Balto (1995)\n",
            "650        James and the Giant Peach (1996)\n",
            "255    Kid in King Arthur's Court, A (1995)\n",
            "Name: title, dtype: object\n"
          ]
        }
      ]
    },
    {
      "cell_type": "markdown",
      "source": [
        "Output tersebut menunjukkan daftar 10 film yang direkomendasikan berdasarkan kemiripan konten dengan film \"Toy Story (1995)\". Rekomendasi ini dihitung menggunakan cosine similarity pada fitur TF-IDF dari deskripsi film, sehingga film-film yang muncul memiliki konten atau tema yang mirip dengan \"Toy Story (1995)\". Film-film tersebut diurutkan dari yang paling mirip hingga yang kurang mirip dalam 10 teratas."
      ],
      "metadata": {
        "id": "8LI6Ke6ZWyey"
      }
    },
    {
      "cell_type": "markdown",
      "source": [
        "**2. Collaborative Filtering Modeling**\n",
        "\n",
        "Model yang digunakan:\n",
        "- Algoritma SVD (Singular Value Decomposition) dari library Surprise, populer dan efektif untuk rekomendasi berbasis rating."
      ],
      "metadata": {
        "id": "E9BzSRWVBqj5"
      }
    },
    {
      "cell_type": "code",
      "source": [
        "from surprise import SVD, accuracy\n",
        "from surprise.model_selection import train_test_split\n",
        "\n",
        "# Bagi data surprise menjadi train dan test\n",
        "trainset, testset = train_test_split(data, test_size=0.25, random_state=42)\n",
        "\n",
        "# Inisialisasi model SVD\n",
        "model_svd = SVD()\n",
        "\n",
        "# Latih model\n",
        "model_svd.fit(trainset)\n",
        "\n",
        "# Prediksi pada testset\n",
        "predictions = model_svd.test(testset)\n",
        "\n",
        "# Evaluasi model menggunakan RMSE\n",
        "rmse = accuracy.rmse(predictions)\n",
        "print(\"RMSE:\", rmse)\n",
        "\n",
        "# Fungsi rekomendasi untuk user tertentu berdasarkan model SVD\n",
        "def recommend_svd(user_id, movies_df, model, n_recommendations=10):\n",
        "    # Semua movieId\n",
        "    all_movie_ids = movies_df['movieId'].unique()\n",
        "\n",
        "    # Movie yang sudah dirating user\n",
        "    rated_movie_ids = ratings[ratings['userId'] == user_id]['movieId'].unique()\n",
        "\n",
        "    # Filter movie yang belum dirating user\n",
        "    movie_ids_to_predict = [mid for mid in all_movie_ids if mid not in rated_movie_ids]\n",
        "\n",
        "    # Prediksi rating user untuk semua movie yang belum dirating\n",
        "    predictions = [model.predict(user_id, mid) for mid in movie_ids_to_predict]\n",
        "\n",
        "    # Urutkan berdasarkan rating prediksi tertinggi\n",
        "    predictions.sort(key=lambda x: x.est, reverse=True)\n",
        "\n",
        "    # Ambil top n rekomendasi\n",
        "    top_recommendations = predictions[:n_recommendations]\n",
        "\n",
        "    # Ambil judul film dari movieId\n",
        "    recommended_titles = [movies_df[movies_df['movieId'] == rec.iid]['title'].values[0] for rec in top_recommendations]\n",
        "\n",
        "    return recommended_titles\n",
        "\n",
        "# Contoh rekomendasi untuk userId 1\n",
        "print(recommend_svd(user_id=1, movies_df=movies, model=model_svd))"
      ],
      "metadata": {
        "colab": {
          "base_uri": "https://localhost:8080/"
        },
        "id": "208PF9SLBt26",
        "outputId": "2642defe-0211-4dfd-fe29-7fb24eeff9bd"
      },
      "execution_count": null,
      "outputs": [
        {
          "output_type": "stream",
          "name": "stdout",
          "text": [
            "RMSE: 0.7814\n",
            "RMSE: 0.7814192013354304\n",
            "['Godfather, The (1972)', 'American Beauty (1999)', 'Great Beauty, The (Grande Bellezza, La) (2013)', 'Whiplash (2014)', 'Boyhood (2014)', 'Apocalypse Now (1979)', 'Short Term 12 (2013)', 'Life (2009)', 'There Will Be Blood (2007)', 'Godfather: Part II, The (1974)']\n"
          ]
        }
      ]
    },
    {
      "cell_type": "markdown",
      "source": [
        "Output tersebut menunjukkan dua hal utama dari hasil penerapan model *Collaborative Filtering* menggunakan algoritma SVD:\n",
        "\n",
        "1. **Nilai RMSE (Root Mean Square Error)** sebesar **0.7814**, yang mengindikasikan seberapa akurat model dalam memprediksi rating dibandingkan dengan data aktual. Semakin kecil nilai RMSE, semakin baik performa model dalam memprediksi preferensi pengguna.\n",
        "\n",
        "2. **Daftar 10 rekomendasi film untuk pengguna dengan `userId = 1`**, seperti *\"Godfather, The (1972)\"*, *\"Whiplash (2014)\"*, dan *\"There Will Be Blood (2007)\"*. Film-film ini dipilih karena model memperkirakan pengguna akan memberikan rating tinggi pada film-film tersebut, meskipun belum pernah dirating sebelumnya oleh pengguna tersebut. Rekomendasi ini berdasarkan pola rating pengguna lain yang serupa dalam data.\n"
      ],
      "metadata": {
        "id": "lFveAs0SXcqx"
      }
    },
    {
      "cell_type": "markdown",
      "source": [
        "#Evaluasi"
      ],
      "metadata": {
        "id": "raXnsBSOB147"
      }
    },
    {
      "cell_type": "markdown",
      "source": [
        "**1. Evaluasi Content-Based Filtering**"
      ],
      "metadata": {
        "id": "_3G5WwIWi8ub"
      }
    },
    {
      "cell_type": "code",
      "source": [
        "# Contoh rekomendasi untuk film tertentu\n",
        "recommended = recommend_movies_sample('Toy Story (1995)', movies_sample, cosine_sim_sample, top_n=5)\n",
        "print(\"Rekomendasi Content-Based untuk 'Toy Story (1995)':\")\n",
        "for i, movie in enumerate(recommended, 1):\n",
        "    print(f\"{i}. {movie}\")"
      ],
      "metadata": {
        "colab": {
          "base_uri": "https://localhost:8080/"
        },
        "id": "_2kEMX9AjBiM",
        "outputId": "1fd0a854-6ea2-4142-cda7-b263c95d8eef"
      },
      "execution_count": null,
      "outputs": [
        {
          "output_type": "stream",
          "name": "stdout",
          "text": [
            "Rekomendasi Content-Based untuk 'Toy Story (1995)':\n",
            "1. Pagemaster, The (1994)\n",
            "2. Kids of the Round Table (1995)\n",
            "3. Space Jam (1996)\n",
            "4. Jumanji (1995)\n",
            "5. Indian in the Cupboard, The (1995)\n"
          ]
        }
      ]
    },
    {
      "cell_type": "markdown",
      "source": [
        "Output tersebut menunjukkan hasil rekomendasi film menggunakan pendekatan **Content-Based Filtering** berdasarkan kemiripan konten dengan film *\"Toy Story (1995)\"*. Sistem memilih lima film yang memiliki deskripsi atau kata kunci paling mirip dengan *Toy Story*, berdasarkan perhitungan **cosine similarity** pada representasi TF-IDF dari teks. Hasilnya, film seperti *\"Pagemaster, The (1994)\"* dan *\"Jumanji (1995)\"* direkomendasikan karena memiliki tema atau elemen cerita yang mirip, seperti petualangan anak-anak atau unsur fantasi, sehingga dianggap relevan bagi penonton *Toy Story*."
      ],
      "metadata": {
        "id": "KUxmELFoXxiT"
      }
    },
    {
      "cell_type": "markdown",
      "source": [
        "**2. Evaluasi Collaborative Filtering (SVD)**"
      ],
      "metadata": {
        "id": "gUuhtry2jDtQ"
      }
    },
    {
      "cell_type": "code",
      "source": [
        "from surprise import accuracy\n",
        "\n",
        "# Data test dan prediksi sudah dibuat sebelumnya\n",
        "\n",
        "# Hitung RMSE dan MAE\n",
        "rmse = accuracy.rmse(predictions)\n",
        "mae = accuracy.mae(predictions)\n",
        "\n",
        "print(f\"RMSE: {rmse:.4f}\")\n",
        "print(f\"MAE: {mae:.4f}\")"
      ],
      "metadata": {
        "colab": {
          "base_uri": "https://localhost:8080/"
        },
        "id": "psFAPCbxCD8Y",
        "outputId": "2ccbee01-7ce7-4925-9d3a-0e439d212ceb"
      },
      "execution_count": null,
      "outputs": [
        {
          "output_type": "stream",
          "name": "stdout",
          "text": [
            "RMSE: 0.7814\n",
            "MAE:  0.5896\n",
            "RMSE: 0.7814\n",
            "MAE: 0.5896\n"
          ]
        }
      ]
    },
    {
      "cell_type": "markdown",
      "source": [
        "Output tersebut menunjukkan hasil evaluasi model menggunakan dua metrik: **RMSE (Root Mean Square Error)** dan **MAE (Mean Absolute Error)**. Nilai RMSE sebesar **0.7814** dan MAE sebesar **0.5896** menandakan bahwa rata-rata kesalahan prediksi rating model cukup rendah, dengan MAE mengukur rata-rata selisih absolut dan RMSE lebih sensitif terhadap kesalahan besar. Ini menunjukkan bahwa model cukup akurat dalam memprediksi preferensi pengguna terhadap film."
      ],
      "metadata": {
        "id": "cRJRQAkCYGLE"
      }
    }
  ]
}